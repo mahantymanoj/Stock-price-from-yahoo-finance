{
 "cells": [
  {
   "cell_type": "markdown",
   "metadata": {},
   "source": [
    "# Install Yahoo finance API"
   ]
  },
  {
   "cell_type": "code",
   "execution_count": 2,
   "metadata": {},
   "outputs": [],
   "source": [
    "# pip install yfinance"
   ]
  },
  {
   "cell_type": "code",
   "execution_count": 3,
   "metadata": {},
   "outputs": [],
   "source": [
    "import yfinance as yf"
   ]
  },
  {
   "cell_type": "code",
   "execution_count": 8,
   "metadata": {},
   "outputs": [
    {
     "data": {
      "text/html": [
       "<div>\n",
       "<style scoped>\n",
       "    .dataframe tbody tr th:only-of-type {\n",
       "        vertical-align: middle;\n",
       "    }\n",
       "\n",
       "    .dataframe tbody tr th {\n",
       "        vertical-align: top;\n",
       "    }\n",
       "\n",
       "    .dataframe thead th {\n",
       "        text-align: right;\n",
       "    }\n",
       "</style>\n",
       "<table border=\"1\" class=\"dataframe\">\n",
       "  <thead>\n",
       "    <tr style=\"text-align: right;\">\n",
       "      <th></th>\n",
       "      <th>Open</th>\n",
       "      <th>High</th>\n",
       "      <th>Low</th>\n",
       "      <th>Close</th>\n",
       "      <th>Volume</th>\n",
       "      <th>Dividends</th>\n",
       "      <th>Stock Splits</th>\n",
       "    </tr>\n",
       "    <tr>\n",
       "      <th>Date</th>\n",
       "      <th></th>\n",
       "      <th></th>\n",
       "      <th></th>\n",
       "      <th></th>\n",
       "      <th></th>\n",
       "      <th></th>\n",
       "      <th></th>\n",
       "    </tr>\n",
       "  </thead>\n",
       "  <tbody>\n",
       "    <tr>\n",
       "      <th>2021-05-21</th>\n",
       "      <td>247.570007</td>\n",
       "      <td>248.330002</td>\n",
       "      <td>244.740005</td>\n",
       "      <td>245.169998</td>\n",
       "      <td>21863100</td>\n",
       "      <td>0</td>\n",
       "      <td>0</td>\n",
       "    </tr>\n",
       "    <tr>\n",
       "      <th>2021-05-24</th>\n",
       "      <td>247.789993</td>\n",
       "      <td>251.160004</td>\n",
       "      <td>247.509995</td>\n",
       "      <td>250.779999</td>\n",
       "      <td>21411500</td>\n",
       "      <td>0</td>\n",
       "      <td>0</td>\n",
       "    </tr>\n",
       "    <tr>\n",
       "      <th>2021-05-25</th>\n",
       "      <td>251.770004</td>\n",
       "      <td>252.750000</td>\n",
       "      <td>250.820007</td>\n",
       "      <td>251.720001</td>\n",
       "      <td>17704300</td>\n",
       "      <td>0</td>\n",
       "      <td>0</td>\n",
       "    </tr>\n",
       "    <tr>\n",
       "      <th>2021-05-26</th>\n",
       "      <td>251.429993</td>\n",
       "      <td>252.940002</td>\n",
       "      <td>250.750000</td>\n",
       "      <td>251.490005</td>\n",
       "      <td>17771600</td>\n",
       "      <td>0</td>\n",
       "      <td>0</td>\n",
       "    </tr>\n",
       "    <tr>\n",
       "      <th>2021-05-27</th>\n",
       "      <td>251.169998</td>\n",
       "      <td>251.479996</td>\n",
       "      <td>249.250000</td>\n",
       "      <td>249.309998</td>\n",
       "      <td>24426200</td>\n",
       "      <td>0</td>\n",
       "      <td>0</td>\n",
       "    </tr>\n",
       "    <tr>\n",
       "      <th>2021-05-28</th>\n",
       "      <td>251.000000</td>\n",
       "      <td>252.080002</td>\n",
       "      <td>249.559998</td>\n",
       "      <td>249.679993</td>\n",
       "      <td>18270200</td>\n",
       "      <td>0</td>\n",
       "      <td>0</td>\n",
       "    </tr>\n",
       "    <tr>\n",
       "      <th>2021-06-01</th>\n",
       "      <td>251.229996</td>\n",
       "      <td>251.289993</td>\n",
       "      <td>246.960007</td>\n",
       "      <td>247.399994</td>\n",
       "      <td>23213300</td>\n",
       "      <td>0</td>\n",
       "      <td>0</td>\n",
       "    </tr>\n",
       "    <tr>\n",
       "      <th>2021-06-02</th>\n",
       "      <td>248.130005</td>\n",
       "      <td>249.270004</td>\n",
       "      <td>245.839996</td>\n",
       "      <td>247.300003</td>\n",
       "      <td>19406700</td>\n",
       "      <td>0</td>\n",
       "      <td>0</td>\n",
       "    </tr>\n",
       "    <tr>\n",
       "      <th>2021-06-03</th>\n",
       "      <td>245.220001</td>\n",
       "      <td>246.339996</td>\n",
       "      <td>243.000000</td>\n",
       "      <td>245.710007</td>\n",
       "      <td>25307700</td>\n",
       "      <td>0</td>\n",
       "      <td>0</td>\n",
       "    </tr>\n",
       "    <tr>\n",
       "      <th>2021-06-04</th>\n",
       "      <td>247.759995</td>\n",
       "      <td>251.649994</td>\n",
       "      <td>247.509995</td>\n",
       "      <td>250.789993</td>\n",
       "      <td>25275000</td>\n",
       "      <td>0</td>\n",
       "      <td>0</td>\n",
       "    </tr>\n",
       "  </tbody>\n",
       "</table>\n",
       "</div>"
      ],
      "text/plain": [
       "                  Open        High         Low       Close    Volume  \\\n",
       "Date                                                                   \n",
       "2021-05-21  247.570007  248.330002  244.740005  245.169998  21863100   \n",
       "2021-05-24  247.789993  251.160004  247.509995  250.779999  21411500   \n",
       "2021-05-25  251.770004  252.750000  250.820007  251.720001  17704300   \n",
       "2021-05-26  251.429993  252.940002  250.750000  251.490005  17771600   \n",
       "2021-05-27  251.169998  251.479996  249.250000  249.309998  24426200   \n",
       "2021-05-28  251.000000  252.080002  249.559998  249.679993  18270200   \n",
       "2021-06-01  251.229996  251.289993  246.960007  247.399994  23213300   \n",
       "2021-06-02  248.130005  249.270004  245.839996  247.300003  19406700   \n",
       "2021-06-03  245.220001  246.339996  243.000000  245.710007  25307700   \n",
       "2021-06-04  247.759995  251.649994  247.509995  250.789993  25275000   \n",
       "\n",
       "            Dividends  Stock Splits  \n",
       "Date                                 \n",
       "2021-05-21          0             0  \n",
       "2021-05-24          0             0  \n",
       "2021-05-25          0             0  \n",
       "2021-05-26          0             0  \n",
       "2021-05-27          0             0  \n",
       "2021-05-28          0             0  \n",
       "2021-06-01          0             0  \n",
       "2021-06-02          0             0  \n",
       "2021-06-03          0             0  \n",
       "2021-06-04          0             0  "
      ]
     },
     "execution_count": 8,
     "metadata": {},
     "output_type": "execute_result"
    }
   ],
   "source": [
    "price = yf.Ticker('MSFT')\n",
    "hist = price.history(period='10d')\n",
    "hist"
   ]
  },
  {
   "cell_type": "markdown",
   "metadata": {},
   "source": [
    "# Plotting price in Graph"
   ]
  },
  {
   "cell_type": "code",
   "execution_count": 5,
   "metadata": {},
   "outputs": [],
   "source": [
    "import matplotlib.pyplot as plt\n",
    "import seaborn"
   ]
  },
  {
   "cell_type": "code",
   "execution_count": 9,
   "metadata": {},
   "outputs": [
    {
     "data": {
      "text/plain": [
       "<matplotlib.axes._subplots.AxesSubplot at 0x1b0fc0d29c8>"
      ]
     },
     "execution_count": 9,
     "metadata": {},
     "output_type": "execute_result"
    },
    {
     "data": {
      "image/png": "[encoded data removed]",
      "text/plain": [
       "<Figure size 1152x648 with 1 Axes>"
      ]
     },
     "metadata": {
      "needs_background": "light"
     },
     "output_type": "display_data"
    }
   ],
   "source": [
    "hist['Close'].plot(figsize=(16,9))"
   ]
  },
  {
   "cell_type": "code",
   "execution_count": null,
   "metadata": {},
   "outputs": [],
   "source": []
  }
 ],
 "metadata": {
  "kernelspec": {
   "display_name": "Python 3",
   "language": "python",
   "name": "python3"
  },
  "language_info": {
   "codemirror_mode": {
    "name": "ipython",
    "version": 3
   },
   "file_extension": ".py",
   "mimetype": "text/x-python",
   "name": "python",
   "nbconvert_exporter": "python",
   "pygments_lexer": "ipython3",
   "version": "3.7.6"
  }
 },
 "nbformat": 4,
 "nbformat_minor": 4
}
